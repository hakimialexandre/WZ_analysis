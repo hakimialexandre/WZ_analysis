{
 "cells": [
  {
   "cell_type": "code",
   "execution_count": 39,
   "metadata": {},
   "outputs": [],
   "source": [
    "import os\n",
    "from collections import namedtuple\n",
    "import pandas\n",
    "import numpy\n",
    "from matplotlib import pyplot as plt\n",
    "\n",
    "DatasetFileInfo = namedtuple(\"DatasetFileInfo\", [\"path\", \"root_basenames\", \"data_frames\", \"suffix\"])\n",
    "fig_dir='/home/llr/cms/hakimi/WZ_analysis/figs/'\n",
    "\n"
   ]
  },
  {
   "cell_type": "code",
   "execution_count": 2,
   "metadata": {},
   "outputs": [],
   "source": [
    "def expand_dataset_info(path):\n",
    "    root_basenames = set()\n",
    "    data_frames = set()\n",
    "    for f in os.listdir(path):\n",
    "        tmp = f.split(\"_\")\n",
    "        root_basenames.add(tmp[0])\n",
    "        tmp = \"_\".join(tmp[1:]).split(\".\")\n",
    "        data_frames.add(tmp[0])\n",
    "        suffix = \".\" + \".\".join(tmp[1:])\n",
    "\n",
    "    return DatasetFileInfo(path, sorted(list(root_basenames)), sorted(list(data_frames)), suffix)\n"
   ]
  },
  {
   "cell_type": "code",
   "execution_count": 3,
   "metadata": {},
   "outputs": [],
   "source": [
    "def is_first_in_event(event):\n",
    "    return numpy.concatenate([[1], event[1:] != event[:-1]])\n"
   ]
  },
  {
   "cell_type": "code",
   "execution_count": 4,
   "metadata": {},
   "outputs": [],
   "source": [
    "def indices_in_event(event):\n",
    "    r = numpy.arange(len(event))\n",
    "    t = is_first_in_event(event) * r\n",
    "    w = numpy.where(t)[0]\n",
    "    t[w[1:]] -= t[w[:-1]]\n",
    "    return r - numpy.cumsum(t)\n"
   ]
  },
  {
   "cell_type": "code",
   "execution_count": 5,
   "metadata": {},
   "outputs": [],
   "source": [
    "class ParquetSingleFileHandler(object):\n",
    "\n",
    "    import pandas\n",
    "\n",
    "    def __init__(self, file_template, data_frames):\n",
    "        self._file_template = file_template\n",
    "        self._data_frames = data_frames\n",
    "\n",
    "    def keys(self):\n",
    "        return self._data_frames[:]\n",
    "\n",
    "    def __repr__(self):\n",
    "        return \"<ParquetSingleFileHandler for \" + self._file_template + \">\"\n",
    "\n",
    "    def __contains__(self, key):\n",
    "        return key in self._data_frames\n",
    "\n",
    "    def __getitem__(self, key):\n",
    "        if not key in self:\n",
    "            raise ValueError(\"Dataset does not contain data frame named \" + key + \".\")\n",
    "        df = pandas.read_parquet(self._file_template.format(key))\n",
    "        if key == \"Scalar\":\n",
    "            df = df.set_index(\"event\")\n",
    "        else:\n",
    "            df[key] = indices_in_event(df[\"event\"].values)\n",
    "            df[\"event\"] = df[\"event\"].astype(int)\n",
    "            df = df.set_index([\"event\", key])\n",
    "        return df\n",
    "\n"
   ]
  },
  {
   "cell_type": "code",
   "execution_count": 6,
   "metadata": {},
   "outputs": [],
   "source": [
    "class ParquetFilesHandler(object):\n",
    "    def __init__(self, path):\n",
    "        self._path, self._root_basenames, self._data_frames, self._suffix = expand_dataset_info(path)\n",
    "\n",
    "    def __len__(self):\n",
    "        return len(self._root_basenames)\n",
    "\n",
    "    def keys(self):\n",
    "        return self._data_frames[:]\n",
    "\n",
    "    def __contains__(self, key):\n",
    "        return key in self._data_frames\n",
    "\n",
    "    def __getitem__(self, key):\n",
    "        data_frame = None\n",
    "        if hasattr(key, \"__len__\"):\n",
    "            i, data_frame = key\n",
    "        else:\n",
    "            i = key\n",
    "        file_template = os.path.join(self._path, self._root_basenames[i] + \"_{}\" + self._suffix)\n",
    "        file_handler = ParquetSingleFileHandler(file_template, self._data_frames)\n",
    "        if data_frame:\n",
    "            return file_handler[data_frame]\n",
    "        else:\n",
    "            return file_handler\n",
    "        \n",
    "    def __iter__(self):\n",
    "        for i in range(len(self)):\n",
    "            yield self[i]\n",
    "\n"
   ]
  },
  {
   "cell_type": "code",
   "execution_count": 7,
   "metadata": {},
   "outputs": [],
   "source": [
    "def open(path):\n",
    "    return ParquetFilesHandler(path)\n",
    "\n"
   ]
  },
  {
   "cell_type": "code",
   "execution_count": 8,
   "metadata": {},
   "outputs": [],
   "source": [
    "def loc(df, selected_events, columns=None):\n",
    "    e = df.index.values\n",
    "    mask = numpy.in1d(e, selected_events)\n",
    "    if columns is None:\n",
    "        return df.loc[mask]\n",
    "    else:\n",
    "        return df.loc[mask, columns]"
   ]
  },
  {
   "cell_type": "code",
   "execution_count": 9,
   "metadata": {},
   "outputs": [],
   "source": [
    "def array(data_frames, column):\n",
    "    return np.concatenate([df[column] for df in data_frames])\n",
    "\n",
    "def df_len(data_frames):\n",
    "    return sum([len(df) for df in data_frames])"
   ]
  },
  {
   "cell_type": "code",
   "execution_count": 10,
   "metadata": {},
   "outputs": [],
   "source": [
    "data_WZ_QCD='/data_CMS/cms/hakimi/WZ_analysis/samples/WZTo3LNu_TuneCUETP8M1_13TeV-powheg-pythia8/RunIISummer16NanoAODv6-PUMoriond17_Nano25Oct2019_102X_mcRun2_asymptotic_v7_ext1-v1/NANOAODSIM/parquet/'\n",
    "data_WZ_EWK='/data_CMS/cms/hakimi/WZ_analysis/samples/WLLJJ_WToLNu_EWK_TuneCP5_13TeV_madgraph-madspin-pythia8/RunIIAutumn18NanoAODv6-Nano25Oct2019_102X_upgrade2018_realistic_v20-v1/NANOAODSIM/parquet/'\n"
   ]
  },
  {
   "cell_type": "code",
   "execution_count": 11,
   "metadata": {},
   "outputs": [],
   "source": [
    "dataset_qcd = open(data_WZ_QCD)\n",
    "dataset_ewk = open(data_WZ_EWK)"
   ]
  },
  {
   "cell_type": "code",
   "execution_count": 14,
   "metadata": {},
   "outputs": [
    {
     "name": "stdout",
     "output_type": "stream",
     "text": [
      "['CorrT1METJet', 'Electron', 'FatJet', 'FsrPhoton', 'GenDressedLepton', 'GenJet', 'GenJetAK8', 'GenPart', 'GenVisTau', 'IsoTrack', 'Jet', 'LHEPart', 'LHEPdfWeight', 'LHEReweightingWeight', 'LHEScaleWeight', 'Muon', 'OtherPV', 'PSWeight', 'Photon', 'SV', 'Scalar', 'SoftActivityJet', 'SubGenJetAK8', 'SubJet', 'Tau', 'TrigObj']\n",
      "['CorrT1METJet', 'Electron', 'FatJet', 'FsrPhoton', 'GenDressedLepton', 'GenJet', 'GenJetAK8', 'GenPart', 'GenVisTau', 'IsoTrack', 'Jet', 'LHEPart', 'LHEPdfWeight', 'LHEReweightingWeight', 'LHEScaleWeight', 'Muon', 'OtherPV', 'PSWeight', 'Photon', 'SV', 'Scalar', 'SoftActivityJet', 'SubGenJetAK8', 'SubJet', 'Tau', 'TrigObj']\n"
     ]
    }
   ],
   "source": [
    "print(dataset_ewk._data_frames)\n",
    "print(dataset_qcd._data_frames)"
   ]
  },
  {
   "cell_type": "code",
   "execution_count": 18,
   "metadata": {},
   "outputs": [
    {
     "name": "stderr",
     "output_type": "stream",
     "text": [
      "\n",
      "  0%|          | 0/14 [00:00<?, ?it/s]\u001b[A\n",
      "  7%|▋         | 1/14 [00:00<00:06,  2.10it/s]\u001b[A\n",
      " 14%|█▍        | 2/14 [00:00<00:05,  2.10it/s]\u001b[A\n",
      " 21%|██▏       | 3/14 [00:01<00:04,  2.21it/s]\u001b[A\n",
      " 29%|██▊       | 4/14 [00:01<00:04,  2.25it/s]\u001b[A\n",
      " 36%|███▌      | 5/14 [00:02<00:04,  1.88it/s]\u001b[A\n",
      " 43%|████▎     | 6/14 [00:03<00:04,  1.67it/s]\u001b[A\n",
      " 50%|█████     | 7/14 [00:03<00:03,  1.79it/s]\u001b[A\n",
      " 57%|█████▋    | 8/14 [00:04<00:03,  1.90it/s]\u001b[A\n",
      " 64%|██████▍   | 9/14 [00:04<00:02,  1.97it/s]\u001b[A\n",
      " 79%|███████▊  | 11/14 [00:05<00:01,  2.32it/s]\u001b[A\n",
      " 86%|████████▌ | 12/14 [00:05<00:00,  2.31it/s]\u001b[A\n",
      " 93%|█████████▎| 13/14 [00:06<00:00,  2.08it/s]\u001b[A\n",
      "100%|██████████| 14/14 [00:06<00:00,  2.07it/s]\u001b[A\n",
      "  0%|          | 0/14 [00:00<?, ?it/s]\u001b[A\n",
      "  7%|▋         | 1/14 [00:01<00:18,  1.39s/it]\u001b[A\n",
      " 14%|█▍        | 2/14 [00:02<00:16,  1.41s/it]\u001b[A\n",
      " 21%|██▏       | 3/14 [00:04<00:15,  1.37s/it]\u001b[A\n",
      " 29%|██▊       | 4/14 [00:05<00:13,  1.33s/it]\u001b[A\n",
      " 36%|███▌      | 5/14 [00:07<00:14,  1.59s/it]\u001b[A\n",
      " 43%|████▎     | 6/14 [00:09<00:14,  1.79s/it]\u001b[A\n",
      " 50%|█████     | 7/14 [00:11<00:11,  1.65s/it]\u001b[A\n",
      " 57%|█████▋    | 8/14 [00:12<00:09,  1.54s/it]\u001b[A\n",
      " 64%|██████▍   | 9/14 [00:14<00:07,  1.58s/it]\u001b[A\n",
      " 71%|███████▏  | 10/14 [00:14<00:04,  1.14s/it]\u001b[A\n",
      " 79%|███████▊  | 11/14 [00:15<00:03,  1.32s/it]\u001b[A\n",
      " 86%|████████▌ | 12/14 [00:17<00:02,  1.46s/it]\u001b[A\n",
      " 93%|█████████▎| 13/14 [00:20<00:01,  1.79s/it]\u001b[A\n",
      "100%|██████████| 14/14 [00:22<00:00,  1.88s/it]\u001b[A\n",
      "  0%|          | 0/3 [00:00<?, ?it/s]\u001b[A\n",
      " 33%|███▎      | 1/3 [00:00<00:00,  2.49it/s]\u001b[A\n",
      " 67%|██████▋   | 2/3 [00:00<00:00,  3.21it/s]\u001b[A\n",
      "100%|██████████| 3/3 [00:00<00:00,  3.49it/s]\u001b[A\n",
      "  0%|          | 0/3 [00:00<?, ?it/s]\u001b[A\n",
      " 33%|███▎      | 1/3 [00:01<00:03,  1.81s/it]\u001b[A\n",
      " 67%|██████▋   | 2/3 [00:02<00:01,  1.37s/it]\u001b[A\n",
      "100%|██████████| 3/3 [00:02<00:00,  1.16s/it]\u001b[A"
     ]
    },
    {
     "name": "stdout",
     "output_type": "stream",
     "text": [
      "CPU times: user 2min 51s, sys: 57.5 s, total: 3min 48s\n",
      "Wall time: 32.6 s\n"
     ]
    }
   ],
   "source": [
    "%%time\n",
    "from tqdm import tqdm\n",
    "file_range_qcd= range(len(dataset_qcd))\n",
    "file_range_ewk= range(len(dataset_ewk))\n",
    "df_qcd_elec=[dataset_qcd[i][\"Electron\"] for i in tqdm(file_range_qcd)]\n",
    "df_qcd_jet=[dataset_qcd[i][\"Jet\"] for i in tqdm(file_range_qcd)]\n",
    "df_ewk_elec=[dataset_ewk[i][\"Electron\"] for i in tqdm(file_range_ewk)]\n",
    "df_ewk_jet=[dataset_ewk[i][\"Jet\"] for i in tqdm(file_range_ewk)]"
   ]
  },
  {
   "cell_type": "code",
   "execution_count": 19,
   "metadata": {},
   "outputs": [
    {
     "data": {
      "text/plain": [
       "Index(['Electron_deltaEtaSC', 'Electron_dr03EcalRecHitSumEt',\n",
       "       'Electron_dr03HcalDepth1TowerSumEt', 'Electron_dr03TkSumPt',\n",
       "       'Electron_dr03TkSumPtHEEP', 'Electron_dxy', 'Electron_dxyErr',\n",
       "       'Electron_dz', 'Electron_dzErr', 'Electron_eCorr',\n",
       "       'Electron_eInvMinusPInv', 'Electron_energyErr', 'Electron_eta',\n",
       "       'Electron_hoe', 'Electron_ip3d', 'Electron_jetPtRelv2',\n",
       "       'Electron_jetRelIso', 'Electron_mass', 'Electron_miniPFRelIso_all',\n",
       "       'Electron_miniPFRelIso_chg', 'Electron_mvaFall17V1Iso',\n",
       "       'Electron_mvaFall17V1noIso', 'Electron_mvaFall17V2Iso',\n",
       "       'Electron_mvaFall17V2noIso', 'Electron_pfRelIso03_all',\n",
       "       'Electron_pfRelIso03_chg', 'Electron_phi', 'Electron_pt', 'Electron_r9',\n",
       "       'Electron_sieie', 'Electron_sip3d', 'Electron_mvaTTH',\n",
       "       'Electron_charge', 'Electron_cutBased', 'Electron_cutBased_Fall17_V1',\n",
       "       'Electron_jetIdx', 'Electron_pdgId', 'Electron_photonIdx',\n",
       "       'Electron_tightCharge', 'Electron_vidNestedWPBitmap',\n",
       "       'Electron_vidNestedWPBitmapHEEP', 'Electron_convVeto',\n",
       "       'Electron_cutBased_HEEP', 'Electron_isPFcand', 'Electron_lostHits',\n",
       "       'Electron_mvaFall17V1Iso_WP80', 'Electron_mvaFall17V1Iso_WP90',\n",
       "       'Electron_mvaFall17V1Iso_WPL', 'Electron_mvaFall17V1noIso_WP80',\n",
       "       'Electron_mvaFall17V1noIso_WP90', 'Electron_mvaFall17V1noIso_WPL',\n",
       "       'Electron_mvaFall17V2Iso_WP80', 'Electron_mvaFall17V2Iso_WP90',\n",
       "       'Electron_mvaFall17V2Iso_WPL', 'Electron_mvaFall17V2noIso_WP80',\n",
       "       'Electron_mvaFall17V2noIso_WP90', 'Electron_mvaFall17V2noIso_WPL',\n",
       "       'Electron_seedGain', 'Electron_genPartIdx', 'Electron_genPartFlav',\n",
       "       'Electron_cleanmask'],\n",
       "      dtype='object')"
      ]
     },
     "execution_count": 19,
     "metadata": {},
     "output_type": "execute_result"
    }
   ],
   "source": [
    "df_ewk_elec[0].keys()"
   ]
  },
  {
   "cell_type": "code",
   "execution_count": 20,
   "metadata": {},
   "outputs": [
    {
     "data": {
      "text/plain": [
       "Index(['Jet_area', 'Jet_btagCMVA', 'Jet_btagCSVV2', 'Jet_btagDeepB',\n",
       "       'Jet_btagDeepC', 'Jet_btagDeepFlavB', 'Jet_btagDeepFlavC', 'Jet_chEmEF',\n",
       "       'Jet_chHEF', 'Jet_eta', 'Jet_jercCHF', 'Jet_jercCHPUF', 'Jet_mass',\n",
       "       'Jet_muEF', 'Jet_muonSubtrFactor', 'Jet_neEmEF', 'Jet_neHEF', 'Jet_phi',\n",
       "       'Jet_pt', 'Jet_qgl', 'Jet_rawFactor', 'Jet_bRegCorr', 'Jet_bRegRes',\n",
       "       'Jet_electronIdx1', 'Jet_electronIdx2', 'Jet_jetId', 'Jet_muonIdx1',\n",
       "       'Jet_muonIdx2', 'Jet_nConstituents', 'Jet_nElectrons', 'Jet_nMuons',\n",
       "       'Jet_puId', 'Jet_genJetIdx', 'Jet_hadronFlavour', 'Jet_partonFlavour',\n",
       "       'Jet_cleanmask'],\n",
       "      dtype='object')"
      ]
     },
     "execution_count": 20,
     "metadata": {},
     "output_type": "execute_result"
    }
   ],
   "source": [
    "df_ewk_jet[0].keys()"
   ]
  },
  {
   "cell_type": "code",
   "execution_count": 29,
   "metadata": {},
   "outputs": [
    {
     "name": "stdout",
     "output_type": "stream",
     "text": [
      "Number of ewk electrons: 1374480\n",
      "Number of qcd electrons: 14096997\n",
      "CPU times: user 445 µs, sys: 150 µs, total: 595 µs\n",
      "Wall time: 554 µs\n"
     ]
    }
   ],
   "source": [
    "%%time\n",
    "print(\"Number of ewk electrons: \"+ str(df_len(df_ewk_elec)))\n",
    "print(\"Number of qcd electrons: \"+ str(df_len(df_qcd_elec)))"
   ]
  },
  {
   "cell_type": "code",
   "execution_count": null,
   "metadata": {},
   "outputs": [],
   "source": []
  },
  {
   "cell_type": "code",
   "execution_count": 40,
   "metadata": {},
   "outputs": [
    {
     "name": "stdout",
     "output_type": "stream",
     "text": [
      "CPU times: user 11.1 s, sys: 967 ms, total: 12 s\n",
      "Wall time: 11.4 s\n"
     ]
    },
    {
     "data": {
      "image/png": "[encoded data removed]",
      "text/plain": [
       "<Figure size 1440x720 with 5 Axes>"
      ]
     },
     "metadata": {
      "needs_background": "light"
     },
     "output_type": "display_data"
    }
   ],
   "source": [
    "%%time\n",
    "bins = numpy.linspace(0, 200, 200)\n",
    "\n",
    "\n",
    "plt.figure(figsize=(20,10))\n",
    "plt.subplot(2, 3, 1)\n",
    "plt.hist(array(df_ewk_elec, \"Electron_pt\"), bins=bins, label='EWK', histtype='step', density=True)\n",
    "plt.hist(array(df_qcd_elec, \"Electron_pt\"), bins=bins, label= 'QCD', histtype='step', density=True)\n",
    "plt.legend()\n",
    "plt.xlabel(r\" electron $p_T$ [GeV]\")\n",
    "\n",
    "plt.subplot(2, 3, 2)\n",
    "plt.hist(array(df_ewk_elec, \"Electron_eta\"), bins=100, label='EWK', histtype='step', density=True)\n",
    "plt.hist(array(df_qcd_elec, \"Electron_eta\"), bins=100, label= 'QCD', histtype='step', density=True)\n",
    "plt.legend()\n",
    "plt.xlabel(r\" electron $\\eta$ [GeV]\")\n",
    "\n",
    "#plt.show()\n",
    "plt.subplot(2, 3, 3)\n",
    "plt.hist(array(df_ewk_jet, \"Jet_pt\"), bins=bins, label='EWK', histtype='step', density=True)\n",
    "plt.hist(array(df_qcd_jet, \"Jet_pt\"), bins=bins, label= 'QCD', histtype='step', density=True)\n",
    "plt.xlabel(r\"jet $p_T$ [GeV]\")\n",
    "plt.legend()\n",
    "\n",
    "plt.subplot(2, 3, 4)\n",
    "plt.hist(array(df_ewk_jet, \"Jet_eta\"), bins=100, label='EWK', histtype='step', density=True)\n",
    "plt.hist(array(df_qcd_jet, \"Jet_eta\"), bins=100, label= 'QCD', histtype='step', density=True)\n",
    "plt.legend()\n",
    "plt.xlabel(r\" jet $\\eta$ [GeV]\")\n",
    "\n",
    "plt.subplot(2, 3, 5)\n",
    "plt.hist(array(df_ewk_jet, \"Jet_mass\"), bins=bins, label='EWK', histtype='step', density=True)\n",
    "plt.hist(array(df_qcd_jet, \"Jet_mass\"), bins=bins, label= 'QCD', histtype='step', density=True)\n",
    "plt.xlabel(r\"jet mass [GeV]\")\n",
    "plt.legend()\n",
    "\n",
    "plt.savefig(fig_dir+'distrib.png')\n"
   ]
  },
  {
   "cell_type": "code",
   "execution_count": null,
   "metadata": {},
   "outputs": [],
   "source": []
  },
  {
   "cell_type": "code",
   "execution_count": null,
   "metadata": {},
   "outputs": [],
   "source": []
  }
 ],
 "metadata": {
  "kernelspec": {
   "display_name": "Python 3",
   "language": "python",
   "name": "python3"
  },
  "language_info": {
   "codemirror_mode": {
    "name": "ipython",
    "version": 3
   },
   "file_extension": ".py",
   "mimetype": "text/x-python",
   "name": "python",
   "nbconvert_exporter": "python",
   "pygments_lexer": "ipython3",
   "version": "3.7.0"
  }
 },
 "nbformat": 4,
 "nbformat_minor": 2
}
